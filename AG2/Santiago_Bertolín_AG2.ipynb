{
  "nbformat": 4,
  "nbformat_minor": 0,
  "metadata": {
    "colab": {
      "name": "Santiago Bertolín AG2.ipynb",
      "version": "0.3.2",
      "provenance": [],
      "collapsed_sections": [],
      "include_colab_link": true
    },
    "kernelspec": {
      "name": "python3",
      "display_name": "Python 3"
    }
  },
  "cells": [
    {
      "cell_type": "markdown",
      "metadata": {
        "id": "view-in-github",
        "colab_type": "text"
      },
      "source": [
        "<a href=\"https://colab.research.google.com/github/sbertolin/03MAIR-Algoritmos-de-optimizacion/blob/master/AG2/Santiago_Bertol%C3%ADn_AG2.ipynb\" target=\"_parent\"><img src=\"https://colab.research.google.com/assets/colab-badge.svg\" alt=\"Open In Colab\"/></a>"
      ]
    },
    {
      "metadata": {
        "id": "g5BwsvLWHoP1",
        "colab_type": "text"
      },
      "cell_type": "markdown",
      "source": [
        "**AG2** - Actividad Guiada 2<br>\n",
        "Santiago Bertolín Martínez <br>\n",
        "Url -> https://github.com/sbertolin/03MAIR-Algoritmos-de-optimizacion/tree/master/AG2"
      ]
    },
    {
      "metadata": {
        "id": "AOie9N3OKT-s",
        "colab_type": "code",
        "colab": {}
      },
      "cell_type": "code",
      "source": [
        "import math\n",
        "import random"
      ],
      "execution_count": 0,
      "outputs": []
    },
    {
      "metadata": {
        "id": "Ss5b4XxENkqx",
        "colab_type": "code",
        "colab": {}
      },
      "cell_type": "code",
      "source": [
        "from time import time\n",
        "#Función para calcular el tiempo de ejecución\n",
        "def calcular_tiempo(f):\n",
        "   \n",
        "    def wrapper(*args, **kwargs):        \n",
        "        inicio = time()       \n",
        "        resultado = f(*args, **kwargs)       \n",
        "        tiempo = time() - inicio\n",
        "        print(\"Tiempo de ejecución para algoritmo: \"+str(tiempo))\n",
        "        return resultado\n",
        "    \n",
        "    return wrapper"
      ],
      "execution_count": 0,
      "outputs": []
    },
    {
      "metadata": {
        "id": "T-3eBALsH6Cs",
        "colab_type": "code",
        "colab": {}
      },
      "cell_type": "code",
      "source": [
        "# Comprobar tipus\n",
        "# NO  if type(A) != type(B):\n",
        "\n",
        "def distancia(A,B):\n",
        "  if type(A) is int or type(A) is float:\n",
        "    return abs(B-A)\n",
        "  else:\n",
        "    return math.sqrt(sum([ (A[i]-B[i])**2 for i in range(len(A)) ]))"
      ],
      "execution_count": 0,
      "outputs": []
    },
    {
      "metadata": {
        "id": "XGd1wsXWK7xi",
        "colab_type": "code",
        "colab": {}
      },
      "cell_type": "code",
      "source": [
        "N = 3000\n",
        "list_2d = [(random.randrange(1, N*10), random.randrange(1, N*10)) for _ in range(N)]"
      ],
      "execution_count": 0,
      "outputs": []
    },
    {
      "metadata": {
        "id": "Yen5xBWTLXJm",
        "colab_type": "code",
        "colab": {}
      },
      "cell_type": "code",
      "source": [
        "# Fuerza Bruta\n",
        "#@calcular_tiempo\n",
        "def brute_force_distance(L):\n",
        "  best_found = 100000e10\n",
        "  A,B = (),()\n",
        "  \n",
        "  for i in range(len(L)):\n",
        "    for j in range(i+1, len(L)):\n",
        "      distance = distancia(L[i], L[j])\n",
        "      if distance < best_found:\n",
        "        A,B = L[i],L[j]\n",
        "        best_found = distance\n",
        "        \n",
        "  return (best_found, [A,B])"
      ],
      "execution_count": 0,
      "outputs": []
    },
    {
      "metadata": {
        "id": "lfmFNhZbNPif",
        "colab_type": "code",
        "colab": {
          "base_uri": "https://localhost:8080/",
          "height": 54
        },
        "outputId": "6679f0a4-da88-49aa-f9be-f6b084302f06"
      },
      "cell_type": "code",
      "source": [
        "brute_force_distance(list_2d)"
      ],
      "execution_count": 29,
      "outputs": [
        {
          "output_type": "stream",
          "text": [
            "Tiempo de ejecución para algoritmo: 9.71937084197998\n"
          ],
          "name": "stdout"
        },
        {
          "output_type": "execute_result",
          "data": {
            "text/plain": [
              "(8.94427190999916, ((24772, 384), (24764, 388)))"
            ]
          },
          "metadata": {
            "tags": []
          },
          "execution_count": 29
        }
      ]
    },
    {
      "metadata": {
        "id": "l2Uksq78Pwim",
        "colab_type": "code",
        "colab": {}
      },
      "cell_type": "code",
      "source": [
        "# Divide y vencerás\n",
        "def divide_and_conquer(L):\n",
        "  list_length = len(L)\n",
        "  if list_length < 10:\n",
        "    return brute_force_distance(L)\n",
        "  \n",
        "  # Dividir en listas grandes\n",
        "  #pivot = sum([i[0] for i in L]) / list_length\n",
        "  \n",
        "  # sorted usa quick_sort\n",
        "  sorted_list = sorted(L, key=lambda x: x[0])\n",
        "  low_list = sorted_list[:list_length//2]\n",
        "  high_list = sorted_list[list_length//2:]\n",
        "  \n",
        "  d_low, low_points = divide_and_conquer(low_list)\n",
        "  d_high, high_points = divide_and_conquer(high_list)\n",
        "  \n",
        "  return brute_force_distance(low_points + high_points)\n",
        "\n",
        "@calcular_tiempo\n",
        "def test():\n",
        "  return divide_and_conquer(list_2d)"
      ],
      "execution_count": 0,
      "outputs": []
    },
    {
      "metadata": {
        "id": "4TiiW7-PUkqT",
        "colab_type": "code",
        "colab": {
          "base_uri": "https://localhost:8080/",
          "height": 54
        },
        "outputId": "25ad152e-4975-434f-dc30-0be582b55ba0"
      },
      "cell_type": "code",
      "source": [
        "print(test())"
      ],
      "execution_count": 47,
      "outputs": [
        {
          "output_type": "stream",
          "text": [
            "Tiempo de ejecución para algoritmo: 0.036710262298583984\n",
            "(7.0, [(10357, 24772), (10364, 24772)])\n"
          ],
          "name": "stdout"
        }
      ]
    },
    {
      "metadata": {
        "id": "TU5VmYPgah42",
        "colab_type": "code",
        "colab": {}
      },
      "cell_type": "code",
      "source": [
        "def calcular_ruta(RUTA, desde, hasta):\n",
        "  if desde == hasta: \n",
        "    #print(\"Ir a :\" + str(desde))\n",
        "    return desde\n",
        "  else:\n",
        "    return str(calcular_ruta(RUTA, desde, RUTA[desde][hasta])) + ',' + str(RUTA[desde][hasta])"
      ],
      "execution_count": 0,
      "outputs": []
    },
    {
      "metadata": {
        "id": "ZXc3VazXWP_-",
        "colab_type": "code",
        "colab": {
          "base_uri": "https://localhost:8080/",
          "height": 55
        },
        "outputId": "0cdd1d7a-0313-4972-9ecb-187ddc48e5f7"
      },
      "cell_type": "code",
      "source": [
        "# Problema: Paseo por el rio\n",
        "\n",
        "TARIFFS = [\n",
        "    [0,  5,  4,  3,  999,999,999],\n",
        "    [999,0,  999,2,  3,  999,11],\n",
        "    [999,999,0,  1,  999,4,  10],\n",
        "    [999,999,999,0,  5,  6,  9],\n",
        "    [999,999,999,999,0,  999,4],\n",
        "    [999,999,999,999,999,0,  3],\n",
        "    [999,999,999,999,999,999,0]]\n",
        "\n",
        "def prices(tariffs):\n",
        "  length = len(tariffs[0])\n",
        "  \n",
        "  price_arr = [ [9999]*length for i in [9999]*length ]\n",
        "  route = [ [\"\"]*length for i in [9999]*length ]\n",
        "  \n",
        "  for i in range(length-1):\n",
        "    for j in range(i+1,length-1):\n",
        "      MIN = tariffs[i][j]\n",
        "      route[i][j] = i\n",
        "      \n",
        "      for k in range(i,j):\n",
        "        if price_arr[i][k] + tariffs[k][j] < MIN:\n",
        "          #MIN = min(MIN, high_prices[i][k] + tariffs[k][j])\n",
        "          MIN = price_arr[i][k] + tariffs[k][j]\n",
        "          route[i][j] = k\n",
        "          \n",
        "      price_arr[i][j] = MIN\n",
        "      \n",
        "  return price_arr, route"
      ],
      "execution_count": 56,
      "outputs": [
        {
          "output_type": "stream",
          "text": [
            "([[9999, 5, 4, 3, 8, 8, 9999], [9999, 9999, 999, 2, 3, 8, 9999], [9999, 9999, 9999, 1, 6, 4, 9999], [9999, 9999, 9999, 9999, 5, 6, 9999], [9999, 9999, 9999, 9999, 9999, 999, 9999], [9999, 9999, 9999, 9999, 9999, 9999, 9999], [9999, 9999, 9999, 9999, 9999, 9999, 9999]], [['', 0, 0, 0, 1, 2, ''], ['', '', 1, 1, 1, 3, ''], ['', '', '', 2, 3, 2, ''], ['', '', '', '', 3, 3, ''], ['', '', '', '', '', 4, ''], ['', '', '', '', '', '', ''], ['', '', '', '', '', '', '']])\n"
          ],
          "name": "stdout"
        }
      ]
    },
    {
      "metadata": {
        "id": "vUBMtqbZaB3S",
        "colab_type": "code",
        "colab": {
          "base_uri": "https://localhost:8080/",
          "height": 129
        },
        "outputId": "51933d68-c2e7-4caf-9150-21aeda0f5602"
      },
      "cell_type": "code",
      "source": [
        "ret_prices, ret_routes = prices(TARIFFS)\n",
        "\n",
        "  \n",
        "print(\"\\nLa ruta es:\")\n",
        "#calcular_ruta(ret_prices, 0,5)\n",
        "print(ret_prices)\n",
        "print('')\n",
        "print(ret_routes)"
      ],
      "execution_count": 65,
      "outputs": [
        {
          "output_type": "stream",
          "text": [
            "\n",
            "La ruta es:\n",
            "[[9999, 5, 4, 3, 8, 8, 9999], [9999, 9999, 999, 2, 3, 8, 9999], [9999, 9999, 9999, 1, 6, 4, 9999], [9999, 9999, 9999, 9999, 5, 6, 9999], [9999, 9999, 9999, 9999, 9999, 999, 9999], [9999, 9999, 9999, 9999, 9999, 9999, 9999], [9999, 9999, 9999, 9999, 9999, 9999, 9999]]\n",
            "\n",
            "[['', 0, 0, 0, 1, 2, ''], ['', '', 1, 1, 1, 3, ''], ['', '', '', 2, 3, 2, ''], ['', '', '', '', 3, 3, ''], ['', '', '', '', '', 4, ''], ['', '', '', '', '', '', ''], ['', '', '', '', '', '', '']]\n"
          ],
          "name": "stdout"
        }
      ]
    }
  ]
}