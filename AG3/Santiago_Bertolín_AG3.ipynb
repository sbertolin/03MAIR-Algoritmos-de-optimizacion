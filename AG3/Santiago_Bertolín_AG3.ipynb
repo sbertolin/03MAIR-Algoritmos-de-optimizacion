{
  "nbformat": 4,
  "nbformat_minor": 0,
  "metadata": {
    "colab": {
      "name": "Santiago Bertolín - AG3.ipynb",
      "version": "0.3.2",
      "provenance": [],
      "collapsed_sections": [],
      "include_colab_link": true
    },
    "kernelspec": {
      "name": "python3",
      "display_name": "Python 3"
    }
  },
  "cells": [
    {
      "cell_type": "markdown",
      "metadata": {
        "id": "view-in-github",
        "colab_type": "text"
      },
      "source": [
        "<a href=\"https://colab.research.google.com/github/sbertolin/03MAIR-Algoritmos-de-optimizacion/blob/master/AG3/Santiago_Bertol%C3%ADn_AG3.ipynb\" target=\"_parent\"><img src=\"https://colab.research.google.com/assets/colab-badge.svg\" alt=\"Open In Colab\"/></a>"
      ]
    },
    {
      "metadata": {
        "id": "OABKSLUNdEtJ",
        "colab_type": "text"
      },
      "cell_type": "markdown",
      "source": [
        "**AG3** - Actividad Guiada 3<br>\n",
        "Santiago Bertolín Martínez <br>\n",
        "https://github.com/sbertolin/03MAIR-Algoritmos-de-optimizacion/tree/master/AG3"
      ]
    },
    {
      "metadata": {
        "id": "PlSMT4HgeKL8",
        "colab_type": "code",
        "outputId": "c4153bb8-c1db-43d1-a955-36a1153995c3",
        "colab": {
          "base_uri": "https://localhost:8080/",
          "height": 35
        }
      },
      "cell_type": "code",
      "source": [
        "import urllib.request\n",
        "\n",
        "# Se importa el fichero de datos con el que se trabajará\n",
        "file = \"swiss42.tsp\"\n",
        "urllib.request.urlretrieve(\"http://elib.zib.de/pub/mp-testdata/tsp/tsplib/tsp/swiss42.tsp\", file)"
      ],
      "execution_count": 2,
      "outputs": [
        {
          "output_type": "execute_result",
          "data": {
            "text/plain": [
              "('swiss42.tsp', <http.client.HTTPMessage at 0x7f9d3cdbea58>)"
            ]
          },
          "metadata": {
            "tags": []
          },
          "execution_count": 2
        }
      ]
    },
    {
      "metadata": {
        "id": "BVdWMRGBfOS5",
        "colab_type": "code",
        "outputId": "d93de3b4-5ba7-4734-f83b-d10c0bda31f9",
        "colab": {
          "base_uri": "https://localhost:8080/",
          "height": 348
        }
      },
      "cell_type": "code",
      "source": [
        "# Se instala la librería para trabajar con el tipo de fichero descargado\n",
        "!pip install tsplib95"
      ],
      "execution_count": 3,
      "outputs": [
        {
          "output_type": "stream",
          "text": [
            "Collecting tsplib95\n",
            "  Downloading https://files.pythonhosted.org/packages/d1/4f/6a1cb104ce9b400eed7690641230fab1515bd475f2dd86d4a3a73f677e3b/tsplib95-0.3.2-py2.py3-none-any.whl\n",
            "Collecting networkx==2.1 (from tsplib95)\n",
            "\u001b[?25l  Downloading https://files.pythonhosted.org/packages/11/42/f951cc6838a4dff6ce57211c4d7f8444809ccbe2134179950301e5c4c83c/networkx-2.1.zip (1.6MB)\n",
            "\u001b[K    100% |████████████████████████████████| 1.6MB 14.9MB/s \n",
            "\u001b[?25hRequirement already satisfied: Click>=6.0 in /usr/local/lib/python3.6/dist-packages (from tsplib95) (7.0)\n",
            "Requirement already satisfied: decorator>=4.1.0 in /usr/local/lib/python3.6/dist-packages (from networkx==2.1->tsplib95) (4.3.2)\n",
            "Building wheels for collected packages: networkx\n",
            "  Building wheel for networkx (setup.py) ... \u001b[?25ldone\n",
            "\u001b[?25h  Stored in directory: /root/.cache/pip/wheels/44/c0/34/6f98693a554301bdb405f8d65d95bbcd3e50180cbfdd98a94e\n",
            "Successfully built networkx\n",
            "\u001b[31mimgaug 0.2.8 has requirement numpy>=1.15.0, but you'll have numpy 1.14.6 which is incompatible.\u001b[0m\n",
            "\u001b[31malbumentations 0.1.12 has requirement imgaug<0.2.7,>=0.2.5, but you'll have imgaug 0.2.8 which is incompatible.\u001b[0m\n",
            "Installing collected packages: networkx, tsplib95\n",
            "  Found existing installation: networkx 2.2\n",
            "    Uninstalling networkx-2.2:\n",
            "      Successfully uninstalled networkx-2.2\n",
            "Successfully installed networkx-2.1 tsplib95-0.3.2\n"
          ],
          "name": "stdout"
        }
      ]
    },
    {
      "metadata": {
        "id": "uA3oNzScfiRW",
        "colab_type": "code",
        "colab": {}
      },
      "cell_type": "code",
      "source": [
        "import tsplib95\n",
        "import random\n",
        "from math import e\n",
        "\n",
        "# Se carga el conjunto de datos\n",
        "problem = tsplib95.load_problem(file)\n",
        "\n",
        "# Nodos\n",
        "Nodos = list(problem.get_nodes())\n",
        "\n",
        "# Aristas\n",
        "Aristas = list(problem.get_edges()) "
      ],
      "execution_count": 0,
      "outputs": []
    },
    {
      "metadata": {
        "id": "ETOYj11Pg9SI",
        "colab_type": "code",
        "outputId": "fe9e3964-6c68-4443-a890-1391716e1d1d",
        "colab": {
          "base_uri": "https://localhost:8080/",
          "height": 35
        }
      },
      "cell_type": "code",
      "source": [
        "# Devuelve el factorial de un numero\n",
        "def factorial(n):\n",
        "  if n == 0:\n",
        "    return 1\n",
        "  else:\n",
        "    return n * factorial(n-1)\n",
        "\n",
        "# Se genera una solucion aleatoria con comienzo en en el nodo 0\n",
        "def crear_solucion(Nodos):\n",
        "  solucion = [0]\n",
        "  for i in range(len(Nodos)-1):\n",
        "    solucion = solucion + [random.choice(list(set(Nodos) - set({0}) - set(solucion)))]\n",
        "  return solucion\n",
        "\n",
        "# Devuelve la distancia entre dos nodos\n",
        "def distancia(a, b, problem):\n",
        "  return problem.wfunc(a,b)\n",
        "\n",
        "# Devuelve la distancia total de una trayectoria \n",
        "def distancia_total(solucion, problem):\n",
        "  distancia_total = 0\n",
        "  for i in range(len(solucion)-1):\n",
        "    distancia_total += distancia(solucion[i] ,solucion[i+1] , problem)\n",
        "  return distancia_total + distancia(solucion[len(solucion)-1] ,solucion[0], problem)\n",
        "\n",
        "\n",
        "# Test para una solución aleatoria\n",
        "solucion = crear_solucion(Nodos)\n",
        "distancia_total(solucion, problem)"
      ],
      "execution_count": 5,
      "outputs": [
        {
          "output_type": "execute_result",
          "data": {
            "text/plain": [
              "4911"
            ]
          },
          "metadata": {
            "tags": []
          },
          "execution_count": 5
        }
      ]
    },
    {
      "metadata": {
        "id": "VTFTy3KZlS1d",
        "colab_type": "code",
        "outputId": "8fcf839b-a47f-4c55-8d76-1d9cc14713fa",
        "colab": {
          "base_uri": "https://localhost:8080/",
          "height": 54
        }
      },
      "cell_type": "code",
      "source": [
        "# Algoritmo de búsqueda aleatoria. Se van probando posibilidades y se queda con la\n",
        "# mejor encontrada hasta el momento.\n",
        "def busqueda_aleatoria(problem, N):\n",
        "  \n",
        "  Nodos = list(problem.get_nodes())\n",
        "  \n",
        "  mejor_solucion = []\n",
        "  mejor_distancia = 10e100\n",
        "  \n",
        "  for i in range(N):\n",
        "    solucion = crear_solucion(Nodos)\n",
        "    distancia = distancia_total(solucion, problem)\n",
        "    \n",
        "    if distancia < mejor_distancia:\n",
        "      mejor_solucion = solucion\n",
        "      mejor_distancia = distancia\n",
        "      \n",
        "  print(\"Mejor solución: \", mejor_solucion)\n",
        "  print(\"Distancia     : \", mejor_distancia)\n",
        "  \n",
        "  return mejor_solucion\n",
        "\n",
        "# Test búsqueda aleatoria\n",
        "sol_aleatoria = busqueda_aleatoria(problem, 1000)"
      ],
      "execution_count": 6,
      "outputs": [
        {
          "output_type": "stream",
          "text": [
            "Mejor solución:  [0, 34, 8, 5, 20, 32, 14, 11, 31, 37, 35, 36, 25, 41, 10, 16, 33, 2, 6, 23, 39, 27, 4, 19, 15, 26, 13, 12, 9, 22, 21, 30, 18, 17, 3, 7, 38, 1, 29, 40, 24, 28]\n",
            "Distancia     :  3939\n"
          ],
          "name": "stdout"
        }
      ]
    },
    {
      "metadata": {
        "id": "YsL6rGfTnPQd",
        "colab_type": "code",
        "colab": {}
      },
      "cell_type": "code",
      "source": [
        "# Generador de soluciones vecinas: 2-opt (intercambiar 2 nodos)\n",
        "# Si hay N nodos se generan (N-1)x(N-2)/2 soluciones\n",
        "\n",
        "# Se corrigen las entradas. En clase la función no recibía como parámetro la variable\n",
        "# problem, que se utilizaba en el cálculo de la distancia total\n",
        "def genera_vecina(solucion, problem):\n",
        "  \n",
        "  mejor_solucion = []\n",
        "  mejor_distancia = 10e100\n",
        "  \n",
        "  for i in range(1,len(solucion)-1):\n",
        "    for j in range(i+1, len(solucion)):\n",
        "      vecina = solucion[:i] + [solucion[j]] + solucion[i+1:j] + [solucion[i]] + solucion[j+1:]\n",
        "      distancia_vecina = distancia_total(vecina, problem)\n",
        "      if distancia_vecina <= mejor_distancia:\n",
        "        mejor_distancia = distancia_vecina \n",
        "        mejor_solucion = vecina\n",
        "  \n",
        "  # Se devuelve la mejor solución como en clase, pero también la distancia\n",
        "  # de esta solución para evitar volver a tener que calcularla\n",
        "  return mejor_distancia, mejor_solucion"
      ],
      "execution_count": 0,
      "outputs": []
    },
    {
      "metadata": {
        "id": "gJ9V7elVlV3u",
        "colab_type": "code",
        "colab": {
          "base_uri": "https://localhost:8080/",
          "height": 54
        },
        "outputId": "a2af19d8-f4a5-4dae-89c6-dfec4690ffc3"
      },
      "cell_type": "code",
      "source": [
        "# Algoritmo de búsqueda en el qual se va saltando de mínimo local en mínimo local\n",
        "# hasta llegar a un número de iteraciones recibido como parámetro.\n",
        "# Un mínimo local de una nueva iteración no tiene porque ser mejor solución\n",
        "# que las anteriores\n",
        "def busqueda_local(problem, N):\n",
        "  \n",
        "  mejor_solucion = []\n",
        "  mejor_distancia = 10e100\n",
        "  \n",
        "  Nodos = list(problem.get_nodes())\n",
        "  \n",
        "  solucion_referencia = crear_solucion(Nodos)\n",
        "  \n",
        "  for i in range(N):\n",
        "    distancia_vecina, vecina = genera_vecina(solucion_referencia, problem)\n",
        "    \n",
        "    if distancia_vecina < mejor_distancia:\n",
        "      mejor_solucion = vecina\n",
        "      mejor_distancia = distancia_vecina\n",
        "      \n",
        "    solucion_referencia = vecina\n",
        "    \n",
        "  return mejor_distancia, mejor_solucion\n",
        "\n",
        "# Test búsqueda local\n",
        "dist_local, sol_local = busqueda_local(problem, 100)\n",
        "print(\"Mejor solución: \", sol_local)\n",
        "print(\"Distancia     : \", dist_local)"
      ],
      "execution_count": 8,
      "outputs": [
        {
          "output_type": "stream",
          "text": [
            "Mejor solución:  [0, 6, 26, 5, 13, 19, 4, 2, 28, 30, 38, 22, 39, 24, 40, 21, 9, 10, 14, 16, 15, 37, 1, 3, 27, 31, 35, 36, 17, 7, 18, 12, 11, 25, 41, 23, 8, 29, 34, 33, 20, 32]\n",
            "Distancia     :  1751\n"
          ],
          "name": "stdout"
        }
      ]
    },
    {
      "metadata": {
        "id": "Svb3mXWPsYd6",
        "colab_type": "code",
        "colab": {}
      },
      "cell_type": "code",
      "source": [
        "# Generador de 1 solucion vecina 2-opt (intercambiar 2 nodos de forma aleatoria)\n",
        "def genera_vecina_aleatorio(solucion):\n",
        "  i = random.choice(range(1, len(solucion)) )\n",
        "  j = random.choice(list(set(range(1, len(solucion))) - {i}))\n",
        "  vecina = solucion[:i] + [solucion[j]] + solucion[i+1:j] + [solucion[i]] + solucion[j+1:]\n",
        "  return vecina\n",
        "\n",
        "# Devuelve True con una probabilidad: e**(-1*d)/(T*1.0)\n",
        "# Devuelve False en los otros casos. Probabilidad: 1 - e**(-1*d)/(T*1.0)\n",
        "def probabilidad(T,d):\n",
        "  return random.random() <= (e**(-1*d)/(T*1.0))\n",
        "\n",
        "# Función para bajar la temperatura de forma lineal\n",
        "def bajar_temperatura(T):\n",
        "  return T-1"
      ],
      "execution_count": 0,
      "outputs": []
    },
    {
      "metadata": {
        "id": "r0Hw_DH9trxe",
        "colab_type": "code",
        "outputId": "e894fed0-5b8a-40a2-e178-fca2a95a0944",
        "colab": {
          "base_uri": "https://localhost:8080/",
          "height": 54
        }
      },
      "cell_type": "code",
      "source": [
        "# problem = datos del problema\n",
        "# T = Temperatura\n",
        "def recocido_simulado(problem, T):\n",
        "  \n",
        "  solucion_referencia = crear_solucion(Nodos)\n",
        "  distancia_referencia = distancia_total(solucion_referencia, problem)\n",
        "  \n",
        "  mejor_solucion = []\n",
        "  mejor_distancia = 10e100\n",
        "  \n",
        "  while T > 0:\n",
        "    \n",
        "    # Genera una solución vecina(aleatoria)\n",
        "    #vecina = genera_vecina_aleatorio(solucion_referencia)\n",
        "    #distancia_vecina = distancia_total(vecina, problem)\n",
        "    \n",
        "    # Genera una solución vecina (la mejor)\n",
        "    distancia_vecina, vecina = genera_vecina(solucion_referencia, problem)\n",
        "  \n",
        "    # Si es la mejor solución de todas se guarda\n",
        "    if distancia_vecina < mejor_distancia:\n",
        "      mejor_solucion = vecina\n",
        "      mejor_distancia = distancia_vecina\n",
        "      \n",
        "    # Si la nueva vecina es mejor se cambia y si es peor se cambia según una probabilidad dependiente de T y de |distancia_referencia - distancia_vecina|\n",
        "    if distancia_vecina < distancia_referencia or probabilidad(T, abs(distancia_referencia - distancia_vecina) ) :\n",
        "      solucion_referencia = vecina\n",
        "      distancia_referencia = distancia_vecina\n",
        "      \n",
        "    T = bajar_temperatura(T)\n",
        "    \n",
        "  print(\"La mejor solución encontrada es \" , end=\"\")\n",
        "  print(mejor_solucion)\n",
        "  print(\"con una distancia total de \" , end=\"\")\n",
        "  print(mejor_distancia)\n",
        "    \n",
        "  return mejor_solucion\n",
        "  \n",
        "sol_recocido = recocido_simulado(problem, 100)"
      ],
      "execution_count": 15,
      "outputs": [
        {
          "output_type": "stream",
          "text": [
            "La mejor solución encontrada es [0, 28, 39, 21, 40, 24, 22, 38, 30, 29, 8, 10, 12, 18, 26, 4, 3, 27, 2, 9, 23, 41, 25, 11, 6, 7, 17, 31, 35, 36, 37, 15, 16, 20, 33, 34, 32, 14, 19, 13, 5, 1]\n",
            "con una distancia total de 1764\n"
          ],
          "name": "stdout"
        }
      ]
    },
    {
      "metadata": {
        "id": "QCME07gdv0Fk",
        "colab_type": "code",
        "colab": {}
      },
      "cell_type": "code",
      "source": [
        "# Establecer una una funcion de probabilidad para \n",
        "# añadir un nuevo nodo dependiendo de los nodos mas cercanos y de las feromonas depositadas\n",
        "def Add_Nodo(problem, H, T):\n",
        "  Nodos = list(problem.get_nodes())\n",
        "  return random.choice( list(set(range(1,len(Nodos))) - set(H) ) )\n",
        "\n",
        "#Incrementar segun la calidad de la solución. Añadir una cantidad inversamente proporcional a la distancia total\n",
        "def Incrementa_Feromona(problem, T, H):\n",
        "  for i in range(len(H)-1):\n",
        "    T[H[i]][H[i+1]] += 1000/distancia_total(H, problem)\n",
        "  \n",
        "  return T\n",
        "\n",
        "#Podemos elegir diferentes funciones de evaporación dependiendo de la cantidad actual y de la suma total de feromonas depositadas,...\n",
        "#Evapora 0.3 el valor de la feromona, sin que baje de 1 \n",
        "def Evaporar_Feromonas(T):\n",
        "  T = [[ max(T[i][j] - 0.3 , 1) for i in range(len(Nodos)) ] for j in range(len(Nodos))]\n",
        "  return T"
      ],
      "execution_count": 0,
      "outputs": []
    },
    {
      "metadata": {
        "id": "pKK1ROYuxIew",
        "colab_type": "code",
        "outputId": "0542d707-7f41-4526-f360-fdd44673a080",
        "colab": {
          "base_uri": "https://localhost:8080/",
          "height": 54
        }
      },
      "cell_type": "code",
      "source": [
        "#problem = datos del problema\n",
        "#N = Número de agentes(hormigas)\n",
        "def hormigas(problem, N):\n",
        "\n",
        "  #Nodos\n",
        "  Nodos = list(problem.get_nodes())\n",
        "  \n",
        "  #Aristas\n",
        "  Aristas = list(problem.get_edges())\n",
        "  \n",
        "  #Inicializa las aristas con una cantidad inicial de feromonas: 1 \n",
        "  T = [[ 1 for _ in range(len(Nodos)) ] for _ in range(len(Nodos))]\n",
        "  \n",
        "  #Se generan los agentes(hormigas) que serán estructuras de caminos desde 0\n",
        "  Hormiga = [[0] for _ in range(N)]\n",
        "  \n",
        "  #Recorre cada agente construyendo la solución\n",
        "  for h in range(N):\n",
        "    #print(\"\\nAgente:\", h)\n",
        "    #Para cada agente se construye un camino\n",
        "    for i in range(len(Nodos)-1):\n",
        "      #Elige el siguiente nodo\n",
        "      Nuevo_Nodo = Add_Nodo(problem, Hormiga[h], T )\n",
        "      Hormiga[h].append(Nuevo_Nodo)\n",
        "      \n",
        "    #Incrementa feromonas en esa arista\n",
        "    T = Incrementa_Feromona(problem, T, Hormiga[h] )\n",
        "\n",
        "    #print(\"Feromonas(1)\", T)\n",
        "    \n",
        "    #Evapora Feromonas\n",
        "    T = Evaporar_Feromonas(T)\n",
        "    \n",
        "  #print(\"Feromonas(2)\", T)\n",
        "\n",
        "  #Seleccionamos el mejor agente\n",
        "  mejor_solucion = []\n",
        "  mejor_distancia = 10e100\n",
        "\n",
        "  for h in range(N):\n",
        "    distancia_actual = distancia_total(Hormiga[h], problem)\n",
        "    if distancia_actual < mejor_distancia:\n",
        "      mejor_solucion = Hormiga[h]\n",
        "      mejor_distancia = distancia_actual\n",
        "        \n",
        "  print(\"Mejor solución: \", mejor_solucion)\n",
        "  print(\"Distancia     : \", mejor_distancia)\n",
        "\n",
        "        \n",
        "sol_hormigas = hormigas(problem, 1000)"
      ],
      "execution_count": 19,
      "outputs": [
        {
          "output_type": "stream",
          "text": [
            "Mejor solución:  [0, 16, 35, 5, 11, 10, 40, 9, 25, 23, 34, 33, 20, 26, 38, 18, 3, 19, 17, 13, 29, 30, 12, 32, 39, 24, 41, 22, 6, 2, 36, 15, 4, 28, 21, 8, 31, 27, 37, 7, 1, 14]\n",
            "Distancia     :  3913\n"
          ],
          "name": "stdout"
        }
      ]
    }
  ]
}