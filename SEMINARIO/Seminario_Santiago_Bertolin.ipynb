{
  "nbformat": 4,
  "nbformat_minor": 0,
  "metadata": {
    "colab": {
      "name": "Santiago_Bertolin_Seminario.ipynb",
      "version": "0.3.2",
      "provenance": [],
      "collapsed_sections": [],
      "include_colab_link": true
    },
    "kernelspec": {
      "name": "python3",
      "display_name": "Python 3"
    }
  },
  "cells": [
    {
      "cell_type": "markdown",
      "metadata": {
        "id": "view-in-github",
        "colab_type": "text"
      },
      "source": [
        "<a href=\"https://colab.research.google.com/github/sbertolin/03MAIR-Algoritmos-de-optimizacion/blob/master/SEMINARIO/Seminario_Santiago_Bertolin.ipynb\" target=\"_parent\"><img src=\"https://colab.research.google.com/assets/colab-badge.svg\" alt=\"Open In Colab\"/></a>"
      ]
    },
    {
      "metadata": {
        "id": "hVbXYX-RfPWh",
        "colab_type": "text"
      },
      "cell_type": "markdown",
      "source": [
        "# Algoritmos de optimización - Seminario<br>\n",
        "Nombre y Apellidos:  Santiago Bertolín Martínez <br>\n",
        "Url: https://github.com/sbertolin/03MAIR-Algoritmos-de-optimizacion/blob/master/SEMINARIO<br>\n",
        "Problema:\n",
        "> ### 2. Organizar los horarios de partidos de La Liga<br>\n",
        "\n",
        "Descripción del problema:<br>\n",
        "\n",
        "Desde la La Liga de fútbol profesional se pretende organizar los horarios de los partidos de liga de de cada jornada. Se conocen algunos datos que nos deben llevar a diseñar un algoritmo que realice la asignación de los partidos a los horarios que maximice la audiencia. <br>\n",
        "\n",
        "Se conoce estadísticamente la audiencia que genera cada partido según los equipos que se enfrentan y en horario de sábado a las 20h (el mejor en todos los casos). <br>\n",
        "\n",
        "En primer lugar se clasifican los equipos en tres categorías según el numero de seguidores que tienen relación directa con la audiencia. Hay 4 equipos en la categoría A,10 equipos de categoría B y 6 equipos de categoría C.<br>\n",
        "\n",
        "> A vs A: 2M<br>\n",
        "> A vs B: 1,3M<br>\n",
        "> A vs C: 1M<br>\n",
        "> B vs B: 0,9M<br>\n",
        "> B vs C: 0,75M<br>\n",
        "> C vs C: 0,47M<br>\n",
        "\n",
        "Los horarios disponibles se conocen a priori, son los siguientes y tienen la siguiente relación de audiencia con la del de sábado a las 20h:<br>\n",
        "\n",
        "> Viernes: 20:00 (0,4)<br>\n",
        "> Sábado: 12:00 (0,55); 16:00 (0,7); 18:00 (0,8); 20:00 (1)<br>\n",
        "> Domingo: 12:00 (0,45); 16:00 (0,75); 18:00 (0,85); 20:00 (1)<br>\n",
        "> Lunes: 20:00 (0,4)<br>\n",
        "\n",
        "Es posible la coincidencia de horarios pero en este caso la audiencia se verá afectada(no se acumula) y se repartirá según los siguientes criterios:<br>\n",
        "> Se tomará la mejor audiencia y se repartirá según la siguiente ponderación: A = 4 puntos, B = 2 puntos, C = 1 punto<br>\n",
        "> Si hay una coincidencia de horario para dos partidos por ejemplo: AB y BC<br>\n",
        ">> Total puntos: 4(A)+2(B)  +  2(B)+1(C) =9<br>\n",
        ">> La audiencia máxima para ese horario será la de AB, 1.3\n",
        ">> Para AB: 0,87M\n",
        ">> Para BC: 0,43M\n",
        "\n",
        "                                        "
      ]
    },
    {
      "metadata": {
        "id": "3_-exlrTgLd-",
        "colab_type": "text"
      },
      "cell_type": "markdown",
      "source": [
        "(*)¿Cuantas posibilidades hay sin tener en cuenta las restricciones?<br>\n",
        "\n",
        "\n",
        "\n",
        "(*)¿Cuantas posibilidades hay teniendo en cuenta todas las restricciones.\n",
        "\n",
        "\n"
      ]
    },
    {
      "metadata": {
        "id": "WfCUqJyKhPcw",
        "colab_type": "text"
      },
      "cell_type": "markdown",
      "source": [
        "**Respuesta**"
      ]
    },
    {
      "metadata": {
        "id": "HlliIXUHjcjK",
        "colab_type": "text"
      },
      "cell_type": "markdown",
      "source": [
        "*Antes de empezar a responder esta pregunta y el resto de apartados, comentar que, con las condiciones dadas, en ningún caso será óptima la coincidencia de partidos en el mismo horario. Esto se debe a que el número de espectadores de los dos partidos combinados será el mismo al de 1 solo partido (el de mayor audiencia) por lo que la aportación del otro será de 0. Siendo así, cualquier otro horario para este segundo partido será mejor. <br>\n",
        "Teniendo esto en cuenta, a partir de este punto, se despreciará la posibilidad de coincidencia y se considerará que se asigna un partido a cada uno de los horarios posibles.*<br><br>\n",
        "\n",
        "Si el problema se reduce a asignar los 10 partidos a los 10 horarios posibles sin repetición, lo podemos asemejar a buscar las posibles permutaciones de la lista de 10 partidos.\n",
        "\n",
        "Siendo así, el número de posibles soluciones será de 10! = 3628800"
      ]
    },
    {
      "metadata": {
        "id": "dzynfVJahHoY",
        "colab_type": "text"
      },
      "cell_type": "markdown",
      "source": [
        "Modelo para el espacio de soluciones<br>\n",
        "(*) ¿Cual es la estructura de datos que mejor se adapta al problema? Argumentalo.(Es posible que hayas elegido una al principio y veas la necesidad de cambiar, arguentalo)\n"
      ]
    },
    {
      "metadata": {
        "id": "xFIJrOwKi2Ti",
        "colab_type": "text"
      },
      "cell_type": "markdown",
      "source": [
        "**Respuesta**"
      ]
    },
    {
      "metadata": {
        "id": "Tt7lgn_ffL8H",
        "colab_type": "text"
      },
      "cell_type": "markdown",
      "source": [
        "En el caso partícular con los condicionantes ya descritos, se ha decidido modelizar el problema como uno de Programación Lineal Entera, con una función lineal de salida a maximizar a partir de unos coeficientes condicionados (se describirán en el siguiente apartado). Parte de estos coeficientes se representan como una matriz de audiencias. Por una lado porque nos permite un acceso con coste 1 a cada uno de los valores de audiencia posibles según partido y horario, y por otro porque nos permite visualizar el problema de forma muy esclarecedora.<br><br>\n",
        "\n",
        "Exactamente, se podría decir que és un \n",
        "[*Problema de Asignación:*](https://es.wikipedia.org/wiki/Problema_de_la_asignaci%C3%B3n)<br><br>\n",
        "\n",
        "Más adelante, en el último punto, en el caso en que se tuviera que llevar a cabo la resolución del problema como se describirá en ese apartado, se utilizarían árboles de expansión."
      ]
    },
    {
      "metadata": {
        "id": "7Z9U2W7bi-XS",
        "colab_type": "text"
      },
      "cell_type": "markdown",
      "source": [
        "Según el modelo para el espacio de soluciones<br>\n",
        "(*)¿Cual es la función objetivo?\n",
        "\n",
        "(*)¿Es un problema de maximización o minimización?"
      ]
    },
    {
      "metadata": {
        "id": "hBalWLM7j1_d",
        "colab_type": "text"
      },
      "cell_type": "markdown",
      "source": [
        "**Respuesta**"
      ]
    },
    {
      "metadata": {
        "id": "65-wSD3N2loa",
        "colab_type": "text"
      },
      "cell_type": "markdown",
      "source": [
        "Como ya se ha comentado, nos encontramos con un problema de **maximización** dónde la función objetivo a maximizar és la siguiente:\n",
        "\n",
        "$$max(\\sum_{j=0}^{N-1} \\sum_{k=0}^{N-1} \\alpha_{jk} h_{jk})$$\n",
        "\n",
        "Dónde $h_{jk}$ són los coeficientes de la matriz de audiencias (ver más abajo) y $\\alpha_{jk} = \\{0, 1\\}$ son las elecciones de partido y horario, que han de cumplir:\n",
        "$$\\sum_{j=0}^{N-1} \\alpha_{jk} = 1 \\hspace{0.3cm} \\forall k$$\n",
        "$$\\sum_{k=0}^{N-1} \\alpha_{jk} = 1 \\hspace{0.3cm} \\forall j$$"
      ]
    },
    {
      "metadata": {
        "id": "rlnTYgY1j6I2",
        "colab_type": "text"
      },
      "cell_type": "markdown",
      "source": [
        "(*)Diseña un algoritmo para resolver el problema por fuerza bruta"
      ]
    },
    {
      "metadata": {
        "id": "70rDgxYXkC8r",
        "colab_type": "text"
      },
      "cell_type": "markdown",
      "source": [
        "**Respuesta**"
      ]
    },
    {
      "metadata": {
        "id": "bDxifzrzZEZ8",
        "colab_type": "text"
      },
      "cell_type": "markdown",
      "source": [
        "Se diseña un algoritmo que recorre y compara todas las posibles soluciones sin ningún filtro ni condicionante.<br><br>\n",
        "Antes de empezar, se ejecuta una celda para inicializar las constantes que definen el problema."
      ]
    },
    {
      "metadata": {
        "id": "iPHfrinUdqHD",
        "colab_type": "code",
        "colab": {}
      },
      "cell_type": "code",
      "source": [
        "# Se importan las librerías que se utilizarán a lo largo de los ejercicios\n",
        "import random\n",
        "import numpy as np\n",
        "import pandas as pd\n",
        "\n",
        "# Se define una función para encontrar la audiencia base de un partido entre los\n",
        "# equipos 1 y 2\n",
        "AUDIENCES_TEAMS = [[2, 1.3, 1], [1.3, 0.9, 0.75], [1, 0.75, 0.47]]\n",
        "LETTER_DICT = {'A': 0, 'B': 1, 'C': 2}\n",
        "def match_audience(team_1, team_2):\n",
        "  return AUDIENCES_TEAMS[LETTER_DICT[team_1]][LETTER_DICT[team_2]]\n",
        "\n",
        "# Se define la lista de multiplicadores según horario\n",
        "TIMETABLE_MULT = [\n",
        "    [0.4,  'Viernes: 20:00', 'V20 (0.4)', 0],\n",
        "    [0.55, 'Sábado:  12:00', 'S12 (0.55)', 1],\n",
        "    [0.7,  'Sábado:  16:00', 'S16 (0.7)', 2],\n",
        "    [0.8,  'Sábado:  18:00', 'S18 (0.8)', 3],\n",
        "    [1,    'Sábado:  20:00', 'S20 (1)', 4],\n",
        "    [0.45, 'Domingo: 12:00', 'D12 (0.45)', 5],\n",
        "    [0.75, 'Domingo: 16:00', 'D16 (0.75)', 6],\n",
        "    [0.85, 'Domingo: 18:00', 'D18 (0.85)', 7],\n",
        "    [1,    'Domingo: 20:00', 'D20 (1)', 8],\n",
        "    [0.4,  'Lunes:   20:00', 'L20 (0.4)', 9]\n",
        "]\n",
        "\n",
        "# Se define la lista de equipos en la liga actual según el volumen de sus aficiones\n",
        "TEAMS = ['A', 'A', 'A', 'A', 'B', 'B', 'B', 'B', 'B', 'B', 'B', 'B', 'B', 'B', 'C', 'C', 'C', 'C', 'C', 'C']"
      ],
      "execution_count": 0,
      "outputs": []
    },
    {
      "metadata": {
        "id": "AlWrTq2mlOHt",
        "colab_type": "code",
        "colab": {}
      },
      "cell_type": "code",
      "source": [
        "# Se define una función para calcular la audiencia dada una solución posible.\n",
        "# Esta es la función a maximizar por el algoritmo.\n",
        "# La solución es una lista dónde la posición es el partido y el valor en esa posición\n",
        "# el horario asociado al partido.\n",
        "def calculate_audience(audience_matrix, test_solution):\n",
        "  total_audience = 0\n",
        "  for i in range(len(test_solution)):\n",
        "    total_audience += audience_matrix[i][test_solution[i]]\n",
        "    \n",
        "  return total_audience\n",
        "\n",
        "# Función recursiva que nos permite recorrer todas las permutaciones posibles de\n",
        "# la lista de horarios sobre la lista de partidos.\n",
        "# En res_list tenemos la solución a provar que se va generando iterativamente.\n",
        "# max_audience y best_solution se van pasando por \"referencia\" de forma que se pueden\n",
        "# ir utilizando para combrobar si se está en la mejor solución o no.\n",
        "def calc_permutations(audience_matrix, pos_list, res_list, max_audience, best_solution):\n",
        "  \n",
        "  # Si se cumple la condición quiere decir que ya se ha formado una de las posibles soluciones\n",
        "  # y se ha de comprobar si esta es la mejor.\n",
        "  if len(pos_list) == 1:\n",
        "    new_res_list = res_list + [pos_list[0]]\n",
        "    res_audience = calculate_audience(audience_matrix, new_res_list)\n",
        "    \n",
        "    # Si la solución es la mejor hasta el momento, se guarda en las referencias de mejor\n",
        "    # solución\n",
        "    if res_audience > max_audience[0]:\n",
        "      \n",
        "      # max_audience es una lista ya que los enteros no son mutables en python y siempre\n",
        "      # se pasan por copia\n",
        "      max_audience[0] = res_audience\n",
        "      best_solution[:] = new_res_list\n",
        "      \n",
        "  # En este caso aún no se ha llegado a formar una solución y se pasa una de las posiciones de\n",
        "  # de la lista de entrada a la lista de la solución.\n",
        "  else:\n",
        "    for i in range(len(pos_list)): \n",
        "      new_rest_list = res_list + [pos_list[i]]\n",
        "      new_pos_list = pos_list[:i] + pos_list[i+1:]\n",
        "      calc_permutations(audience_matrix, new_pos_list, new_rest_list, max_audience, best_solution)\n",
        "\n",
        "# Punto de entrada del algoritmo de solución por fuerza bruta\n",
        "def brute_force(audience_matrix):\n",
        "  best_solution = []\n",
        "  max_audience = [0]\n",
        "  initial_positions = [i for i in range(len(audience_matrix))]\n",
        "  \n",
        "  calc_permutations(audience_matrix, initial_positions, [], max_audience, best_solution)\n",
        "\n",
        "  return best_solution, max_audience"
      ],
      "execution_count": 0,
      "outputs": []
    },
    {
      "metadata": {
        "id": "tgrnsC2nkFa8",
        "colab_type": "text"
      },
      "cell_type": "markdown",
      "source": [
        "(*)Calcula la complejidad del algoritmo por fuerza bruta"
      ]
    },
    {
      "metadata": {
        "id": "9eUd3xwckP68",
        "colab_type": "text"
      },
      "cell_type": "markdown",
      "source": [
        "**Respuesta**"
      ]
    },
    {
      "metadata": {
        "id": "KMzPRdrWCQUT",
        "colab_type": "text"
      },
      "cell_type": "markdown",
      "source": [
        "Empezamos calculando la complejidad de *calculate_audience*:<br>\n",
        "> 3n + 3<br>\n",
        "\n",
        "Después podemos ver que, para cada una de las soluciones, además, se realizan 4 operaciones y n+1 más si el resultado es el mejor hasta el momento.<br>\n",
        "Durante las iteraciones se realizan más operaciones, pero son despreciables en comparación con las que multiplican el factorial. <br><br>\n",
        "En resumen, el número de operaciones aproximadas serán de **n!(4n+k)** con un órden de complejidad de **O(n!)**."
      ]
    },
    {
      "metadata": {
        "id": "txbrmLmskReM",
        "colab_type": "text"
      },
      "cell_type": "markdown",
      "source": [
        "(*)Diseña un algoritmo que mejore la complejidad del algortimo por fuerza bruta. Argumenta porque crees que mejora el algoritmo por fuerza bruta"
      ]
    },
    {
      "metadata": {
        "id": "hLrVwt5QkZPD",
        "colab_type": "text"
      },
      "cell_type": "markdown",
      "source": [
        "**Respuesta**"
      ]
    },
    {
      "metadata": {
        "id": "RouL52ZRZSyi",
        "colab_type": "text"
      },
      "cell_type": "markdown",
      "source": [
        "Como se ha comentado al principio de la práctica, las condiciones aplicadas al problema lo simplifican mucho llevando a poderse resolver con una voracidad extrema.<br><br>\n",
        "Si se analiza el problema, debido a que las condiciones son simplemente unos coeficientes multiplicativos, se puede llegar a concluir que la mejor solución se consigue siempre multiplicando el partido de mayor audiencia por el horario con mejor coeficiente multiplicativo, el segundo mejor partido por el segundo mejor coeficiente y así en adelante. <br><br>\n",
        "Esto se transformaría en:\n",
        "$$\\forall a > b ;  c > d\\Rightarrow ac +bd > ad +bc$$<br>\n",
        "Y se puede demostrar de la siguiente manera:\n",
        "$$ac+bd-ad-bc > 0$$\n",
        "$$a(c-d)+b(d-c) > 0$$\n",
        "$$k = c-d > 0 \\Rightarrow ak-bk >0 \\Rightarrow a-b > 0$$<br>\n",
        "Se realizaran dos algoritmos, uno utilizando directamente la ordenación de las dos listas, y otro, no tan óptimo a nivel computacional, pero que seguirá un esquema similar a los algoritmos voraces vistos hasta ahora."
      ]
    },
    {
      "metadata": {
        "id": "m1eyM21Vkabg",
        "colab_type": "code",
        "colab": {}
      },
      "cell_type": "code",
      "source": [
        "# Algoritmo por cruce de listas ordenadas\n",
        "def sort_algorithm(audience_list, audience_matrix):\n",
        "  \n",
        "  length = len(audience_list)\n",
        "  best_solution = [0 for i in range(length)]\n",
        "\n",
        "  # Se ordena la lista de partidos por audiencia descendente\n",
        "  audience_sorted_by_value = sorted(audience_list.items(), key=lambda x: x[1], reverse=True)\n",
        "  \n",
        "  # Se ordena la lista (matriz) de horarios por multiplicador de audiencia descendente\n",
        "  times_sorted_by_value = sorted(TIMETABLE_MULT, key=lambda x: x[0], reverse=True)\n",
        " \n",
        "  # Como se ha explicado previamente se calcula la mejor solución multiplicando el mejor\n",
        "  # partido por el mejor coeficiente, el segundo mejor partido por el segundo mejor\n",
        "  # coeficiente y así en adelante\n",
        "  for i in range(length):\n",
        "    best_solution[audience_sorted_by_value[i][0]] = times_sorted_by_value[i][3]\n",
        "  \n",
        "  # Se calcula la audiencia para la solución encontrada\n",
        "  max_audience = calculate_audience(audience_matrix, best_solution)\n",
        "\n",
        "  return best_solution, max_audience\n",
        "\n",
        "# Algoritmo similar al anterior, estilo algoritmo voraz\n",
        "def greedy_algorithm(audience_list, audience_matrix):\n",
        "  \n",
        "  length = len(audience_list)\n",
        "  best_solution = [0 for i in range(length)]\n",
        "  \n",
        "  # Se ordena la lista (matriz) de horarios por multiplicador de audiencia descendente\n",
        "  times_sorted_by_value = sorted(TIMETABLE_MULT, key=lambda x: x[0], reverse=True)\n",
        "  \n",
        "  for i in range(length):\n",
        "    max_val = 0\n",
        "    it = 0\n",
        "    for key in audience_list:\n",
        "      if audience_list[key] > max_val:\n",
        "        max_val = audience_list[key]\n",
        "        it = key\n",
        "        \n",
        "    del audience_list[it]\n",
        "    best_solution[it] = times_sorted_by_value[i][3]\n",
        "  \n",
        "  max_audience = calculate_audience(audience_matrix, best_solution)\n",
        "\n",
        "  return best_solution, max_audience"
      ],
      "execution_count": 0,
      "outputs": []
    },
    {
      "metadata": {
        "id": "eGDB4K6uk1iN",
        "colab_type": "text"
      },
      "cell_type": "markdown",
      "source": [
        "(*)Calcula la complejidad del algoritmo "
      ]
    },
    {
      "metadata": {
        "id": "NhpTh_BPk1ms",
        "colab_type": "text"
      },
      "cell_type": "markdown",
      "source": [
        "**Respuesta**"
      ]
    },
    {
      "metadata": {
        "id": "IUZDCnj8oUyL",
        "colab_type": "text"
      },
      "cell_type": "markdown",
      "source": [
        "El algoritmo *sort_algorithm* utiliza la función *calculate_audience* (aunque no tendría porqué formar parte del algoritmo), con un coste de 3n + 3, el bucle, que serán también 3n y las operaciones de asignación, inspección de matrices, inicialización de las constantes, que seran n+k. Además utiliza 2 veces la ordenación de python, que, aunque no se puede saber exactamente el número de operaciones que hará en el peor de los casos, revisando la documentación se puede descubrir que utiliza un algoritmo llamado **Timsort**, que es una variación muy optimizada de un merge sort que tiene un órden de complejidad $O(n \\log{n})$ en el peor de los casos.<br><br>\n",
        "En resumen, el órden de complejidad, al ser mayor que el del resto de operaciones, lo marcan las ordenaciones y queda en  $O(n \\log{n})$<br><br>\n",
        "\n",
        "En el caso del *greedy_algorithm*, sin entrar en tanto detalle, es fácil ver que el órden de complejidad será de $O(n^2)$"
      ]
    },
    {
      "metadata": {
        "id": "3M6QjTsSkmYe",
        "colab_type": "text"
      },
      "cell_type": "markdown",
      "source": [
        "(*)Según el problema (y tenga sentido), diseña un juego de datos de entrada aleatorios"
      ]
    },
    {
      "metadata": {
        "id": "Jc3_OlyNkvjZ",
        "colab_type": "text"
      },
      "cell_type": "markdown",
      "source": [
        "**Respuesta**"
      ]
    },
    {
      "metadata": {
        "id": "sJ-N2etjkyWc",
        "colab_type": "code",
        "colab": {}
      },
      "cell_type": "code",
      "source": [
        "# Se define una función generadora de jornadas aleatorias a partir de la lista de equipos de la liga\n",
        "# TEAMS es constante y forma parte del enunciado del problema\n",
        "def generate_matchday():\n",
        "  shuffled = TEAMS\n",
        "  # Se ordenan aleatoriamente los equipos\n",
        "  random.shuffle(shuffled)\n",
        "  # Se retornan parejas de equipos que conformaran los partidos de la jornada\n",
        "  return {i: shuffled[i * 2:(i + 1) * 2] for i in range((len(shuffled) + 1) // 2 )}\n",
        "\n",
        "# Se define una función encargada de crear la matriz de audiencias posibles\n",
        "# combinando los partidos recibidos con los posibles horarios.\n",
        "# TIMETABLE_MULT Contiene los multiplicadores asociados a cada horario\n",
        "def create_audience_matrix(matches_list):\n",
        "  length = len(matches_list)\n",
        "  audience_matrix = [ [0]*length for i in [0]*length ]\n",
        "  audience_list = {}\n",
        "  for m_it in range(length):\n",
        "    audience_list[m_it] = match_audience(matches_list[m_it][0],matches_list[m_it][1])\n",
        "    for t_it in range(len(TIMETABLE_MULT)):\n",
        "      audience_matrix[m_it][t_it] = audience_list[m_it]*TIMETABLE_MULT[t_it][0]\n",
        "      \n",
        "  return audience_matrix, audience_list"
      ],
      "execution_count": 0,
      "outputs": []
    },
    {
      "metadata": {
        "id": "zy5ZROmjlGo1",
        "colab_type": "text"
      },
      "cell_type": "markdown",
      "source": [
        "(*)Aplica el algoritmo al juego de datos generado"
      ]
    },
    {
      "metadata": {
        "id": "_Cmj-PVylMsa",
        "colab_type": "text"
      },
      "cell_type": "markdown",
      "source": [
        "**Respuesta**"
      ]
    },
    {
      "metadata": {
        "id": "HEJMdrp1vn2E",
        "colab_type": "code",
        "colab": {}
      },
      "cell_type": "code",
      "source": [
        "# Se importa la función de cálculo de tiempos aportada en el foro\n",
        "from time import time\n",
        "\n",
        "def calcular_tiempo(f):\n",
        "   \n",
        "    def wrapper(*args, **kwargs):        \n",
        "        inicio = time()       \n",
        "        resultado = f(*args, **kwargs)       \n",
        "        tiempo = time() - inicio\n",
        "        print(\"Tiempo de ejecución para algoritmo: \"+str(tiempo))\n",
        "        return resultado\n",
        "    \n",
        "    return wrapper\n",
        "  \n",
        "# Se generan wrappers para los tres algoritmos\n",
        "@calcular_tiempo\n",
        "def wrapped_brute_force(audience_matrix):\n",
        "  return brute_force(audience_matrix)\n",
        "  \n",
        "@calcular_tiempo\n",
        "def wrapped_sort_algorithm(audience_list, audience_matrix):\n",
        "  return sort_algorithm(audience_list, audience_matrix)\n",
        "\n",
        "@calcular_tiempo\n",
        "def wrapped_greedy_algorithm(audience_list, audience_matrix):\n",
        "  return greedy_algorithm(audience_list, audience_matrix)"
      ],
      "execution_count": 0,
      "outputs": []
    },
    {
      "metadata": {
        "id": "Jkx8GeiYlUz1",
        "colab_type": "code",
        "colab": {
          "base_uri": "https://localhost:8080/",
          "height": 808
        },
        "outputId": "625d3fed-e7a9-4dc6-8e55-2d753804373d"
      },
      "cell_type": "code",
      "source": [
        "# Se genera una jornada aleatoriamente y se muestra\n",
        "match_day = generate_matchday()\n",
        "print(\"Partidos generados:\")\n",
        "print(match_day)\n",
        "\n",
        "# Se genera la matriz de audiencias\n",
        "audience_matrix, audience_list = create_audience_matrix(match_day)\n",
        "\n",
        "# De cara a una representación más visual de los datos generados se montan unos dataframes\n",
        "# y se muestra su combinación\n",
        "audience_df = pd.DataFrame(audience_matrix, columns=np.array(TIMETABLE_MULT)[:,2])\n",
        "match_df = pd.DataFrame(match_day).T\n",
        "match_df.columns = ['T1', 'T2']\n",
        "match_aud_df = pd.DataFrame(list(audience_list.values()))\n",
        "match_aud_df.columns = ['BaseAud']\n",
        "final_dataframe = match_df.join(match_aud_df).join(audience_df)\n",
        "print(\"\\nMatriz de posibles audiencias:\")\n",
        "print(final_dataframe)\n",
        "\n",
        "# Las soluciones son una lista dónde la posición es el partido y el valor en esa posición\n",
        "# el horario asociado al partido.\n",
        "\n",
        "# Se soluciona el problema por fuerza bruta y se muestra el resultado\n",
        "print(\"\\nFUERZA BRUTA:\")\n",
        "best_solution, total_audience = wrapped_brute_force(audience_matrix)\n",
        "print(best_solution)\n",
        "print(total_audience[0])\n",
        "\n",
        "# Se soluciona el problema con el algoritmo de ordenación de listas y se muestra el resultado\n",
        "print(\"\\nSORT ALGORITHM:\")\n",
        "best_solution, total_audience = wrapped_sort_algorithm(audience_list, audience_matrix)\n",
        "print(best_solution)\n",
        "print(total_audience)\n",
        "\n",
        "# Se soluciona el problema con el algoritmo voraz y se muestra el resultado\n",
        "print(\"\\nGREEDY ALGORITHM:\")\n",
        "best_solution, total_audience = wrapped_greedy_algorithm(audience_list, audience_matrix)\n",
        "print(best_solution)\n",
        "print(total_audience)"
      ],
      "execution_count": 6,
      "outputs": [
        {
          "output_type": "stream",
          "text": [
            "Partidos generados:\n",
            "{0: ['C', 'B'], 1: ['B', 'A'], 2: ['B', 'A'], 3: ['B', 'C'], 4: ['C', 'C'], 5: ['B', 'B'], 6: ['C', 'B'], 7: ['A', 'C'], 8: ['A', 'B'], 9: ['B', 'B']}\n",
            "\n",
            "Matriz de posibles audiencias:\n",
            "  T1 T2  BaseAud  V20 (0.4)  S12 (0.55)  S16 (0.7)  S18 (0.8)  S20 (1)  \\\n",
            "0  C  B     0.75      0.300      0.4125      0.525      0.600     0.75   \n",
            "1  B  A     1.30      0.520      0.7150      0.910      1.040     1.30   \n",
            "2  B  A     1.30      0.520      0.7150      0.910      1.040     1.30   \n",
            "3  B  C     0.75      0.300      0.4125      0.525      0.600     0.75   \n",
            "4  C  C     0.47      0.188      0.2585      0.329      0.376     0.47   \n",
            "5  B  B     0.90      0.360      0.4950      0.630      0.720     0.90   \n",
            "6  C  B     0.75      0.300      0.4125      0.525      0.600     0.75   \n",
            "7  A  C     1.00      0.400      0.5500      0.700      0.800     1.00   \n",
            "8  A  B     1.30      0.520      0.7150      0.910      1.040     1.30   \n",
            "9  B  B     0.90      0.360      0.4950      0.630      0.720     0.90   \n",
            "\n",
            "   D12 (0.45)  D16 (0.75)  D18 (0.85)  D20 (1)  L20 (0.4)  \n",
            "0      0.3375      0.5625      0.6375     0.75      0.300  \n",
            "1      0.5850      0.9750      1.1050     1.30      0.520  \n",
            "2      0.5850      0.9750      1.1050     1.30      0.520  \n",
            "3      0.3375      0.5625      0.6375     0.75      0.300  \n",
            "4      0.2115      0.3525      0.3995     0.47      0.188  \n",
            "5      0.4050      0.6750      0.7650     0.90      0.360  \n",
            "6      0.3375      0.5625      0.6375     0.75      0.300  \n",
            "7      0.4500      0.7500      0.8500     1.00      0.400  \n",
            "8      0.5850      0.9750      1.1050     1.30      0.520  \n",
            "9      0.4050      0.6750      0.7650     0.90      0.360  \n",
            "\n",
            "FUERZA BRUTA:\n",
            "Tiempo de ejecución para algoritmo: 12.712315797805786\n",
            "[0, 4, 8, 1, 9, 2, 5, 3, 7, 6]\n",
            "7.048000000000001\n",
            "\n",
            "SORT ALGORITHM:\n",
            "Tiempo de ejecución para algoritmo: 4.506111145019531e-05\n",
            "[1, 4, 8, 5, 9, 6, 0, 3, 7, 2]\n",
            "7.047999999999999\n",
            "\n",
            "GREEDY ALGORITHM:\n",
            "Tiempo de ejecución para algoritmo: 3.600120544433594e-05\n",
            "[1, 4, 8, 5, 9, 6, 0, 3, 7, 2]\n",
            "7.047999999999999\n"
          ],
          "name": "stdout"
        }
      ]
    },
    {
      "metadata": {
        "id": "lPh83gGpxITo",
        "colab_type": "text"
      },
      "cell_type": "markdown",
      "source": [
        "- A veces los resultados no son exactamente iguales debido a que hay horarios y partidos que comparten valores de audiencia. El sumatorio de la audiencia máxima conseguible siempre será la misma, eso si.\n",
        "- Curiosamente la mayoría de las veces el GREEDY ALGORITHM consigue las soluciones en mejores tiempos que el SORT ALGORITHM, seguramente debido a las constantes que se desconocen internas del sorted de python. Siendo un problema cerrado a 20 equipos, se podría afinar un poco más el GREEDY y aplicarlo."
      ]
    },
    {
      "metadata": {
        "colab_type": "text",
        "id": "eTFWUJQrtGcv"
      },
      "cell_type": "markdown",
      "source": [
        "(*)Enumera las referencias que has utilizado(si ha sido necesario) para llevar a cabo el trabajo"
      ]
    },
    {
      "metadata": {
        "id": "YKQ_mRBttWsP",
        "colab_type": "text"
      },
      "cell_type": "markdown",
      "source": [
        "**Respuesta**"
      ]
    },
    {
      "metadata": {
        "id": "uCQ5rfM0yHKb",
        "colab_type": "text"
      },
      "cell_type": "markdown",
      "source": [
        "https://ocw.ehu.eus/pluginfile.php/5838/mod_resource/content/1/6._transporte_asignacion.pdf<br>\n",
        "https://en.wikipedia.org/wiki/Hungarian_algorithm<br>\n",
        "https://www.uv.es/martinek/material/Tema6.pdf<br>\n",
        "https://hackernoon.com/timsort-the-fastest-sorting-algorithm-youve-never-heard-of-36b28417f399<br>\n",
        "Manual de la asignatura"
      ]
    },
    {
      "metadata": {
        "id": "kAkDPUyRtYyH",
        "colab_type": "text"
      },
      "cell_type": "markdown",
      "source": [
        "(*)Describe brevemente las lineas de como crees que es posible avanzar en el estudio del problema. Ten en cuenta incluso posibles variaciones del problema y/o variaciones al alza del tamaño"
      ]
    },
    {
      "metadata": {
        "id": "IE0uZmo-tZu-",
        "colab_type": "text"
      },
      "cell_type": "markdown",
      "source": [
        "**Respuesta**"
      ]
    },
    {
      "metadata": {
        "id": "oGHBDMYizZt0",
        "colab_type": "text"
      },
      "cell_type": "markdown",
      "source": [
        "De cara a hacer el problema más interesante, se podrían introducir modificaciones para asemejarlo un poco más a un caso más realista.<br><br>\n",
        "La primera posibilidad sería la de añadir condicionantes al multiplicador horario según el equipo. Por razones demográficas es perfectamente plausible pensar que las aficiones de los distintos equipos se comportarán diferente en relación con los cambios horarios. Un equipo tendrá mejores audiencias en domingo que otro, o se podría hasta beneficiar de jugar por la tarde.<br><br>\n",
        "Si se planteara de esta manera, se convertiría en un problema de asignación al uso al que se podría aplicar programación dinámica o el método húngaro referenciado arriba.<br><br>\n",
        "Una siguiente evolución podría ser la de permitir repetición de horario. Aquí el problema se complicaría mucho más y el algoritmo óptimo seguramente dependería también de como se realizaran las condiciones.<br><br>\n",
        "A primera vista, si se pusiera un máximo de dos partidos por horario (después que ya fuera inviable por razones de repartición de audiencia) y partiendo de que se conocería una solución próxima a la mejor (la encontrada multiplicando mejor horario por mejor partido), se podría intentar un algoritmo de ramificación y poda, esperando encontrar una buena estrategia de poda a partir de las condiciones comentadas.<br><br>\n",
        "Si se permitiera y fuera plausible cualquier combinación, la complejidad escalaría de forma que lo más sensato parecería utilizar métodos heurísticos."
      ]
    }
  ]
}