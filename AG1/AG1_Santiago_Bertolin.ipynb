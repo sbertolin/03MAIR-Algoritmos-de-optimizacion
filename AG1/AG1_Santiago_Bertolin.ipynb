{
  "nbformat": 4,
  "nbformat_minor": 0,
  "metadata": {
    "colab": {
      "name": "AG1-Santiago_Bertolin.ipynb",
      "version": "0.3.2",
      "provenance": [],
      "include_colab_link": true
    },
    "kernelspec": {
      "name": "python3",
      "display_name": "Python 3"
    }
  },
  "cells": [
    {
      "cell_type": "markdown",
      "metadata": {
        "id": "view-in-github",
        "colab_type": "text"
      },
      "source": [
        "<a href=\"https://colab.research.google.com/github/sbertolin/03MAIR-Algoritmos-de-optimizacion/blob/master/AG1/AG1_Santiago_Bertolin.ipynb\" target=\"_parent\"><img src=\"https://colab.research.google.com/assets/colab-badge.svg\" alt=\"Open In Colab\"/></a>"
      ]
    },
    {
      "metadata": {
        "id": "sZ837M-JcAHF",
        "colab_type": "text"
      },
      "cell_type": "markdown",
      "source": [
        "AG1- Actividad Guiada 1\n",
        "\n",
        "Santiago Bertolín\n",
        "\n",
        "URL-> https://github.com/sbertolin/03MAIR-Algoritmos-de-optimizacion/tree/master/AG1\n",
        "\n"
      ]
    },
    {
      "metadata": {
        "id": "7pZJ3GjacFM3",
        "colab_type": "code",
        "colab": {
          "base_uri": "https://localhost:8080/",
          "height": 384
        },
        "outputId": "7446ab0e-321e-4154-febf-f2ffce262cdc"
      },
      "cell_type": "code",
      "source": [
        "#quick_sort\n",
        "\n",
        "A = [9187, 244, 4054, 9222, 8373, 4993, 5265, 5470, 4519, 7182, 2035, 3506, 4337, 7580, 2554, 2824, 8357, 4447, 7379]\n",
        "\n",
        "def quick_sort(A):\n",
        "  if len(A) == 1:\n",
        "    return A\n",
        "  elif len(A) == 2:\n",
        "    return [min(A), max(A)]\n",
        "  \n",
        "  pivote = (A[0] + A[1] + A[2])/3\n",
        "  \n",
        "  LOW = []\n",
        "  HIGH = []\n",
        "  for i in A:\n",
        "    if i < pivote:\n",
        "      LOW.append(i)\n",
        "    else:\n",
        "      HIGH.append(i)\n",
        "      \n",
        "  return quick_sort(LOW) + quick_sort(HIGH)\n",
        "\n",
        "@calcular_tiempo\n",
        "def hola(A):\n",
        "  for i in range(1000):\n",
        "    quick_sort(A)\n",
        "  return quick_sort(A)\n",
        "  \n",
        "hola(A)\n",
        "  "
      ],
      "execution_count": 13,
      "outputs": [
        {
          "output_type": "stream",
          "text": [
            "Tiempo de ejecución para algoritmo: 0.03109145164489746\n"
          ],
          "name": "stdout"
        },
        {
          "output_type": "execute_result",
          "data": {
            "text/plain": [
              "[244,\n",
              " 2035,\n",
              " 2554,\n",
              " 2824,\n",
              " 3506,\n",
              " 4054,\n",
              " 4337,\n",
              " 4447,\n",
              " 4519,\n",
              " 4993,\n",
              " 5265,\n",
              " 5470,\n",
              " 7182,\n",
              " 7379,\n",
              " 7580,\n",
              " 8357,\n",
              " 8373,\n",
              " 9187,\n",
              " 9222]"
            ]
          },
          "metadata": {
            "tags": []
          },
          "execution_count": 13
        }
      ]
    },
    {
      "metadata": {
        "id": "hoWbQuJbgvai",
        "colab_type": "code",
        "colab": {}
      },
      "cell_type": "code",
      "source": [
        "from time import time\n",
        "#Función para calcular el tiempo de ejecución\n",
        "def calcular_tiempo(f):\n",
        "   \n",
        "    def wrapper(*args, **kwargs):        \n",
        "        inicio = time()       \n",
        "        resultado = f(*args, **kwargs)       \n",
        "        tiempo = time() - inicio\n",
        "        print(\"Tiempo de ejecución para algoritmo: \"+str(tiempo))\n",
        "        return resultado\n",
        "    \n",
        "    return wrapper"
      ],
      "execution_count": 0,
      "outputs": []
    },
    {
      "metadata": {
        "id": "xOcKr9GHjUvI",
        "colab_type": "code",
        "colab": {
          "base_uri": "https://localhost:8080/",
          "height": 35
        },
        "outputId": "e6fd0f28-60b2-4f82-f73d-adbda431c9e6"
      },
      "cell_type": "code",
      "source": [
        "def cambio_monedas(val, SISTEMA):\n",
        "  SOLUCION = [0 for a in range(len(SISTEMA))]\n",
        "  \n",
        "  VALOR_ACUMULADO = 0\n",
        "  \n",
        "  for i in range(len(SISTEMA)):\n",
        "    monedas = int((val - VALOR_ACUMULADO)/SISTEMA[i])\n",
        "    SOLUCION[i] = monedas\n",
        "    VALOR_ACUMULADO += monedas * SISTEMA[i]\n",
        "    \n",
        "    if val == VALOR_ACUMULADO:\n",
        "      return SOLUCION\n",
        "        \n",
        "s_example = [25, 10, 5, 1]\n",
        "\n",
        "print(cambio_monedas(234, s_example))"
      ],
      "execution_count": 33,
      "outputs": [
        {
          "output_type": "stream",
          "text": [
            "[9, 0, 1, 4]\n"
          ],
          "name": "stdout"
        }
      ]
    },
    {
      "metadata": {
        "id": "rkBblo6PnlI7",
        "colab_type": "code",
        "colab": {
          "base_uri": "https://localhost:8080/",
          "height": 1156
        },
        "outputId": "daa8f96e-31f7-4493-f2af-7c4c13c28f03"
      },
      "cell_type": "code",
      "source": [
        "N = 4\n",
        "solucion = [0 for i in range(N)]\n",
        "etapa = 0\n",
        "\n",
        "def es_prometedora(SOLUCION,etapa):\n",
        "  for i in range(etapa+1):\n",
        "    if SOLUCION.count(SOLUCION[i]) > 1:\n",
        "      return False\n",
        "    \n",
        "    for j in range(i+1, etapa+1):\n",
        "      if abs(i-j) == abs(SOLUCION[i]-SOLUCION[j]):\n",
        "        return False\n",
        "    \n",
        "  return True;\n",
        "\n",
        "\n",
        "def escribe(S):\n",
        "  n = len(S)\n",
        "  for x in range(n):\n",
        "    print(\"\")\n",
        "    for i in range(n):\n",
        "      if solucion[i] == x+1:\n",
        "        print(\" X \", end=\"\")\n",
        "      else:\n",
        "        print (\" - \", end=\"\")\n",
        "\n",
        "def reinas(N, solucion, etapa):\n",
        "  \n",
        "  for i in range(1, N+1):\n",
        "    solucion[etapa] = i\n",
        "    \n",
        "    if es_prometedora(solucion, etapa):\n",
        "      if etapa == N-1:\n",
        "        print(\"\\n\\nLa solucion es: \")\n",
        "        print(solucion)\n",
        "        escribe(solucion)\n",
        "      else:\n",
        "        print(\"Es prometedora\\n##############\")\n",
        "        reinas(N, solucion, etapa+1)\n",
        "    else:\n",
        "      print(\"NO prometedora\\n##############\")\n",
        "      \n",
        "      \n",
        "reinas (N, solucion, etapa)"
      ],
      "execution_count": 40,
      "outputs": [
        {
          "output_type": "stream",
          "text": [
            "Es prometedora\n",
            "##############\n",
            "NO prometedora\n",
            "##############\n",
            "NO prometedora\n",
            "##############\n",
            "Es prometedora\n",
            "##############\n",
            "NO prometedora\n",
            "##############\n",
            "NO prometedora\n",
            "##############\n",
            "NO prometedora\n",
            "##############\n",
            "NO prometedora\n",
            "##############\n",
            "NO prometedora\n",
            "##############\n",
            "Es prometedora\n",
            "##############\n",
            "NO prometedora\n",
            "##############\n",
            "NO prometedora\n",
            "##############\n",
            "NO prometedora\n",
            "##############\n",
            "NO prometedora\n",
            "##############\n",
            "Es prometedora\n",
            "##############\n",
            "Es prometedora\n",
            "##############\n",
            "NO prometedora\n",
            "##############\n",
            "NO prometedora\n",
            "##############\n",
            "NO prometedora\n",
            "##############\n",
            "Es prometedora\n",
            "##############\n",
            "NO prometedora\n",
            "##############\n",
            "\n",
            "\n",
            "La solucion es: \n",
            "[3, 1, 4, 2]\n",
            "\n",
            " -  X  -  - \n",
            " -  -  -  X \n",
            " X  -  -  - \n",
            " -  -  X  - NO prometedora\n",
            "##############\n",
            "NO prometedora\n",
            "##############\n",
            "NO prometedora\n",
            "##############\n",
            "NO prometedora\n",
            "##############\n",
            "NO prometedora\n",
            "##############\n",
            "NO prometedora\n",
            "##############\n"
          ],
          "name": "stdout"
        }
      ]
    }
  ]
}