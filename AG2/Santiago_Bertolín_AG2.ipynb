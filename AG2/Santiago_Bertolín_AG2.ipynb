{
  "nbformat": 4,
  "nbformat_minor": 0,
  "metadata": {
    "colab": {
      "name": "Santiago Bertolín AG2.ipynb",
      "version": "0.3.2",
      "provenance": [],
      "collapsed_sections": [],
      "include_colab_link": true
    },
    "kernelspec": {
      "name": "python3",
      "display_name": "Python 3"
    }
  },
  "cells": [
    {
      "cell_type": "markdown",
      "metadata": {
        "id": "view-in-github",
        "colab_type": "text"
      },
      "source": [
        "<a href=\"https://colab.research.google.com/github/sbertolin/03MAIR-Algoritmos-de-optimizacion/blob/master/AG2/Santiago_Bertol%C3%ADn_AG2.ipynb\" target=\"_parent\"><img src=\"https://colab.research.google.com/assets/colab-badge.svg\" alt=\"Open In Colab\"/></a>"
      ]
    },
    {
      "metadata": {
        "id": "g5BwsvLWHoP1",
        "colab_type": "text"
      },
      "cell_type": "markdown",
      "source": [
        "**AG2** - Actividad Guiada 2<br>\n",
        "Santiago Bertolín Martínez <br>\n",
        "Url -> https://github.com/sbertolin/03MAIR-Algoritmos-de-optimizacion/tree/master/AG2"
      ]
    },
    {
      "metadata": {
        "id": "AOie9N3OKT-s",
        "colab_type": "code",
        "colab": {}
      },
      "cell_type": "code",
      "source": [
        "import math\n",
        "import random"
      ],
      "execution_count": 0,
      "outputs": []
    },
    {
      "metadata": {
        "id": "Ss5b4XxENkqx",
        "colab_type": "code",
        "colab": {}
      },
      "cell_type": "code",
      "source": [
        "from time import time\n",
        "\n",
        "# Función para calcular el tiempo de ejecución\n",
        "def calcular_tiempo(f):\n",
        "   \n",
        "    def wrapper(*args, **kwargs):        \n",
        "        inicio = time()       \n",
        "        resultado = f(*args, **kwargs)       \n",
        "        tiempo = time() - inicio\n",
        "        print(\"Tiempo de ejecución para algoritmo: \"+str(tiempo))\n",
        "        return resultado\n",
        "    \n",
        "    return wrapper"
      ],
      "execution_count": 0,
      "outputs": []
    },
    {
      "metadata": {
        "id": "T-3eBALsH6Cs",
        "colab_type": "code",
        "colab": {}
      },
      "cell_type": "code",
      "source": [
        "# Definición función de cálculo de la distancia\n",
        "def distance(A,B):\n",
        "  if type(A) is int or type(A) is float:\n",
        "    return abs(B-A)\n",
        "  else:\n",
        "    return math.sqrt(sum([ (A[i]-B[i])**2 for i in range(len(A)) ]))"
      ],
      "execution_count": 0,
      "outputs": []
    },
    {
      "metadata": {
        "id": "Yen5xBWTLXJm",
        "colab_type": "code",
        "colab": {}
      },
      "cell_type": "code",
      "source": [
        "# Resolución del problema por fuerza Bruta\n",
        "def brute_force_distance(point_list):\n",
        "  best_found = 100000e10\n",
        "  A,B = (),()\n",
        "  length = len(point_list)\n",
        "  \n",
        "  for i in range(length):\n",
        "    for j in range(i+1, length):\n",
        "      calc_distance = distance(point_list[i], point_list[j])\n",
        "      if calc_distance < best_found:\n",
        "        A, B = point_list[i], point_list[j]\n",
        "        best_found = calc_distance\n",
        "        \n",
        "  return (best_found, [A,B])"
      ],
      "execution_count": 0,
      "outputs": []
    },
    {
      "metadata": {
        "id": "lfmFNhZbNPif",
        "colab_type": "code",
        "colab": {}
      },
      "cell_type": "code",
      "source": [
        "@calcular_tiempo\n",
        "def test_brute_force_distance(list_Xd):\n",
        "  return brute_force_distance(list_Xd)"
      ],
      "execution_count": 0,
      "outputs": []
    },
    {
      "metadata": {
        "id": "l2Uksq78Pwim",
        "colab_type": "code",
        "colab": {}
      },
      "cell_type": "code",
      "source": [
        "# Resolución del problema utilizando Divide y vencerás tal como se ha realizado\n",
        "# en la actividad guiada\n",
        "def divide_and_conquer(point_list):\n",
        "  if len(point_list) < 10:\n",
        "    return brute_force_distance(point_list)\n",
        "  \n",
        "  # sorted usa quick_sort\n",
        "  sorted_list = sorted(point_list, key=lambda x: x[0])\n",
        "  low_list = sorted_list[:len(point_list)//2]\n",
        "  high_list = sorted_list[len(point_list)//2:]\n",
        "  \n",
        "  d_low, low_points = divide_and_conquer(low_list)\n",
        "  d_high, high_points = divide_and_conquer(high_list)\n",
        "  \n",
        "  return brute_force_distance(low_points + high_points)"
      ],
      "execution_count": 0,
      "outputs": []
    },
    {
      "metadata": {
        "id": "4TiiW7-PUkqT",
        "colab_type": "code",
        "colab": {}
      },
      "cell_type": "code",
      "source": [
        "@calcular_tiempo\n",
        "def test_divide_and_conquer(list_Xd):\n",
        "  return divide_and_conquer(list_Xd)"
      ],
      "execution_count": 0,
      "outputs": []
    },
    {
      "metadata": {
        "id": "gjJgCFqlhvy7",
        "colab_type": "code",
        "colab": {}
      },
      "cell_type": "code",
      "source": [
        "# Resolución del problema utilizando una versión optimizada del Divide y vencerás\n",
        "# realizado en la actividad guiada\n",
        "def divide_and_conquer_mod(point_list, is_init = True):\n",
        "  list_length = len(point_list)\n",
        "  if list_length < 6:\n",
        "    return brute_force_distance(point_list)\n",
        "  \n",
        "  # Una vez ordenadas las listas, no hace falta volverlas a ordenar\n",
        "  if is_init:\n",
        "    point_list = sorted(point_list, key=lambda x: x[0])\n",
        "    \n",
        "  low_list = point_list[:list_length//2]\n",
        "  high_list = point_list[list_length//2:]\n",
        "  \n",
        "  d_low, low_points = divide_and_conquer_mod(low_list, False)\n",
        "  d_high, high_points = divide_and_conquer_mod(high_list, False)\n",
        "  \n",
        "  return brute_force_distance(low_points + high_points)"
      ],
      "execution_count": 0,
      "outputs": []
    },
    {
      "metadata": {
        "id": "iv4_77ZJh-Gk",
        "colab_type": "code",
        "colab": {}
      },
      "cell_type": "code",
      "source": [
        "@calcular_tiempo\n",
        "def test_divide_and_conquer_mod(list_Xd):\n",
        "  return divide_and_conquer_mod(list_Xd, True)"
      ],
      "execution_count": 0,
      "outputs": []
    },
    {
      "metadata": {
        "id": "Wu9Sxq--iuV4",
        "colab_type": "code",
        "colab": {}
      },
      "cell_type": "code",
      "source": [
        "# Resolución del problema utilizando una versión optimizada del Divide y vencerás\n",
        "# y resolviendo el posible error en caso de encontrar la solución partida entre las\n",
        "# dos listas de una de las iteraciónes del divide y vencerás\n",
        "def divide_and_conquer_mod_corrected(point_list, is_init = True):\n",
        "  list_length = len(point_list)\n",
        "  if list_length < 20:\n",
        "    return brute_force_distance(point_list)\n",
        "  \n",
        "  # Una vez ordenadas las listas, no hace falta volverlas a ordenar\n",
        "  if is_init:\n",
        "    point_list = sorted(point_list, key=lambda x: x[0])\n",
        "    \n",
        "  low_list = point_list[:list_length//2]\n",
        "  high_list = point_list[list_length//2:]\n",
        "  \n",
        "  d_low, low_points = divide_and_conquer_mod_corrected(low_list, False)\n",
        "  d_high, high_points = divide_and_conquer_mod_corrected(high_list, False)\n",
        "\n",
        "  if d_low > d_high:\n",
        "    d_low = d_high\n",
        "\n",
        "  # Se buscan los puntos próximos a la intersección entre las listas que cumplan\n",
        "  # que su distancia en el eje de comparación sea el menor que la distancia mínima\n",
        "  # encontrada hasta el momento.\n",
        "  length_low = len(low_list)\n",
        "  low_iterator = length_low-1\n",
        "  high_iterator = 0\n",
        "  check_list = []\n",
        "  \n",
        "  # Se recorre la lista superior y se almacenan todos los puntos que cumplen que\n",
        "  # su distancia en el primer eje és menor con el último punto de la lista inferior\n",
        "  tmp_val = low_list[length_low-1][0] + d_low\n",
        "  while high_list[high_iterator][0] < tmp_val:\n",
        "    check_list.append(high_list[high_iterator])\n",
        "    high_iterator += 1\n",
        "    if high_iterator == len(high_list):\n",
        "      break\n",
        "      \n",
        "  # Se recorre la lista inferior y se almacenan todos los puntos que cumplen que\n",
        "  # su distancia en el primer eje és menor con el primer punto de la lista superior\n",
        "  tmp_val = high_list[0][0] - d_low\n",
        "  while low_list[low_iterator][0] > tmp_val:\n",
        "    check_list.insert(0, low_list[low_iterator])\n",
        "    low_iterator -= 1\n",
        "    if low_iterator < 0:\n",
        "      break\n",
        "  \n",
        "  # En caso de haber encontrado puntos en la franja problemática, se calcula su\n",
        "  # distancia mínima y en caso de ser menor a la encontrada en las dos listas,\n",
        "  # se devuelve en su lugar\n",
        "  check_lenght = len(check_list)\n",
        "  if check_lenght > 0:\n",
        "    if (check_lenght < 20 or check_lenght == list_length):\n",
        "      d_min2, min_points = brute_force_distance(check_list)\n",
        "    else:\n",
        "      d_min2, min_points = divide_and_conquer_mod_corrected(check_list, False)\n",
        "    if d_min2 <= d_low:\n",
        "      return d_min2, min_points\n",
        "  \n",
        "  return brute_force_distance(low_points + high_points)"
      ],
      "execution_count": 0,
      "outputs": []
    },
    {
      "metadata": {
        "id": "fC4tWH3glBq5",
        "colab_type": "code",
        "colab": {}
      },
      "cell_type": "code",
      "source": [
        "@calcular_tiempo\n",
        "def test_divide_and_conquer_mod_corrected(list_Xd):\n",
        "  return divide_and_conquer_mod_corrected(list_Xd, True)"
      ],
      "execution_count": 0,
      "outputs": []
    },
    {
      "metadata": {
        "id": "FHWRhBlMp4V9",
        "colab_type": "code",
        "colab": {
          "base_uri": "https://localhost:8080/",
          "height": 678
        },
        "outputId": "c81973e2-411f-433f-814e-62dc0f8ea13b"
      },
      "cell_type": "code",
      "source": [
        "# Se generan las constantes, el tamaño de la lista y los puntos de la lista (de forma aleatoria)\n",
        "N = 3000\n",
        "list_2d = [(random.randrange(1, N), random.randrange(1, N)) for _ in range(N)]\n",
        "list_3d = [(random.randrange(1, N), random.randrange(1, N), random.randrange(1, N)) for _ in range(N)]\n",
        "\n",
        "print(\"TEST EN 2D\")\n",
        "print(\"\\nFuerza Bruta:\")\n",
        "print(test_brute_force_distance(list_2d))\n",
        "print(\"\\nDivide y vencerás guiado:\")\n",
        "print(test_divide_and_conquer(list_2d))\n",
        "print(\"\\nDivide y vencerás optimizado:\")\n",
        "print(test_divide_and_conquer_mod(list_2d))\n",
        "print(\"\\nDivide y vencerás corregido:\")\n",
        "print(test_divide_and_conquer_mod_corrected(list_2d))\n",
        "\n",
        "print(\"\\n\\nTEST EN 3D\")\n",
        "print(\"\\nFuerza Bruta:\")\n",
        "print(test_brute_force_distance(list_3d))\n",
        "print(\"\\nDivide y vencerás guiado:\")\n",
        "print(test_divide_and_conquer(list_3d))\n",
        "print(\"\\nDivide y vencerás optimizado:\")\n",
        "print(test_divide_and_conquer_mod(list_3d))\n",
        "print(\"\\nDivide y vencerás corregido:\")\n",
        "print(test_divide_and_conquer_mod_corrected(list_3d))"
      ],
      "execution_count": 163,
      "outputs": [
        {
          "output_type": "stream",
          "text": [
            "TEST EN 2D\n",
            "\n",
            "Fuerza Bruta:\n",
            "Tiempo de ejecución para algoritmo: 9.563021659851074\n",
            "(1.0, [(694, 1280), (694, 1281)])\n",
            "\n",
            "Divide y vencerás guiado:\n",
            "Tiempo de ejecución para algoritmo: 0.030988693237304688\n",
            "(1.0, [(694, 1280), (694, 1281)])\n",
            "\n",
            "Divide y vencerás optimizado:\n",
            "Tiempo de ejecución para algoritmo: 0.029427528381347656\n",
            "(1.0, [(694, 1280), (694, 1281)])\n",
            "\n",
            "Divide y vencerás corregido:\n",
            "Tiempo de ejecución para algoritmo: 0.10739469528198242\n",
            "(1.0, [(694, 1280), (694, 1281)])\n",
            "\n",
            "\n",
            "TEST EN 3D\n",
            "\n",
            "Fuerza Bruta:\n",
            "Tiempo de ejecución para algoritmo: 11.066687822341919\n",
            "(18.681541692269406, [(2812, 353, 391), (2816, 335, 394)])\n",
            "\n",
            "Divide y vencerás guiado:\n",
            "Tiempo de ejecución para algoritmo: 0.03439974784851074\n",
            "(19.261360284258224, [(1817, 2111, 201), (1818, 2102, 184)])\n",
            "\n",
            "Divide y vencerás optimizado:\n",
            "Tiempo de ejecución para algoritmo: 0.02915167808532715\n",
            "(19.519221295943137, [(603, 174, 1264), (605, 163, 1280)])\n",
            "\n",
            "Divide y vencerás corregido:\n",
            "Tiempo de ejecución para algoritmo: 0.8912544250488281\n",
            "(18.681541692269406, [(2812, 353, 391), (2816, 335, 394)])\n"
          ],
          "name": "stdout"
        }
      ]
    },
    {
      "metadata": {
        "id": "sI8s4HTa98V1",
        "colab_type": "code",
        "colab": {
          "base_uri": "https://localhost:8080/",
          "height": 54
        },
        "outputId": "0e3befd9-53ce-4631-f8c7-6e1b65338b19"
      },
      "cell_type": "code",
      "source": [
        "list_test = list_2d\n",
        "print(test_divide_and_conquer_mod_corrected(list_test))"
      ],
      "execution_count": 146,
      "outputs": [
        {
          "output_type": "stream",
          "text": [
            "Tiempo de ejecución para algoritmo: 0.16482925415039062\n",
            "(5.656854249492381, [(16947, 24067), (16951, 24063)])\n"
          ],
          "name": "stdout"
        }
      ]
    },
    {
      "metadata": {
        "id": "ZXc3VazXWP_-",
        "colab_type": "code",
        "colab": {}
      },
      "cell_type": "code",
      "source": [
        "# Problema: Paseo por el rio\n",
        "\n",
        "# Función para describir la ruta óptima entre dos puntos\n",
        "def describe_route(route, _from, to):\n",
        "  if _from == to:\n",
        "    return _from\n",
        "  else:\n",
        "    return str(describe_route(route, _from, route[_from][to])) + ',' + str(route[_from][to])\n",
        "\n",
        "# Matriz de coste entre los distintos puntos\n",
        "TARIFFS = [\n",
        "    [0,  5,  4,  3,  999,999,999],\n",
        "    [999,0,  999,2,  3,  999,11],\n",
        "    [999,999,0,  1,  999,4,  10],\n",
        "    [999,999,999,0,  5,  6,  9],\n",
        "    [999,999,999,999,0,  999,4],\n",
        "    [999,999,999,999,999,0,  3],\n",
        "    [999,999,999,999,999,999,0]]\n",
        "\n",
        "def prices(tariffs):\n",
        "  length = len(tariffs[0])\n",
        "  \n",
        "  price_arr = [ [9999]*length for i in [9999]*length ]\n",
        "  route = [ [\"\"]*length for i in [9999]*length ]\n",
        "  \n",
        "  for i in range(length-1):\n",
        "    for j in range(i+1, length):\n",
        "      MIN = tariffs[i][j]\n",
        "      route[i][j] = i\n",
        "      \n",
        "      for k in range(i,j):\n",
        "        if price_arr[i][k] + tariffs[k][j] < MIN:\n",
        "          MIN = min(MIN, price_arr[i][k] + tariffs[k][j])\n",
        "          route[i][j] = k\n",
        "          \n",
        "      price_arr[i][j] = MIN\n",
        "      \n",
        "  return price_arr, route"
      ],
      "execution_count": 0,
      "outputs": []
    },
    {
      "metadata": {
        "id": "vUBMtqbZaB3S",
        "colab_type": "code",
        "outputId": "aa023965-8fd7-41fb-9855-b7aa77f4e246",
        "colab": {
          "base_uri": "https://localhost:8080/",
          "height": 74
        }
      },
      "cell_type": "code",
      "source": [
        "ret_prices, ret_routes = prices(TARIFFS)\n",
        "print(ret_prices)\n",
        "print(ret_routes)"
      ],
      "execution_count": 194,
      "outputs": [
        {
          "output_type": "stream",
          "text": [
            "[[9999, 5, 4, 3, 8, 8, 11], [9999, 9999, 999, 2, 3, 8, 7], [9999, 9999, 9999, 1, 6, 4, 7], [9999, 9999, 9999, 9999, 5, 6, 9], [9999, 9999, 9999, 9999, 9999, 999, 4], [9999, 9999, 9999, 9999, 9999, 9999, 3], [9999, 9999, 9999, 9999, 9999, 9999, 9999]]\n",
            "[['', 0, 0, 0, 1, 2, 5], ['', '', 1, 1, 1, 3, 4], ['', '', '', 2, 3, 2, 5], ['', '', '', '', 3, 3, 3], ['', '', '', '', '', 4, 4], ['', '', '', '', '', '', 5], ['', '', '', '', '', '', '']]\n"
          ],
          "name": "stdout"
        }
      ]
    },
    {
      "metadata": {
        "id": "jGJNzsajZyP5",
        "colab_type": "code",
        "colab": {}
      },
      "cell_type": "code",
      "source": [
        "def print_route(origin, destination):\n",
        "  print(\"La ruta óptima entre \" + str(origin) + \" y \" + str(destination) + \" es:\")\n",
        "  return describe_route(ret_routes, origin, destination)"
      ],
      "execution_count": 0,
      "outputs": []
    },
    {
      "metadata": {
        "id": "qbumI8leaKk7",
        "colab_type": "code",
        "colab": {
          "base_uri": "https://localhost:8080/",
          "height": 54
        },
        "outputId": "1fd0047b-dca1-4242-f176-9e7e008245f6"
      },
      "cell_type": "code",
      "source": [
        "print_route(0,6)"
      ],
      "execution_count": 196,
      "outputs": [
        {
          "output_type": "stream",
          "text": [
            "La ruta óptima entre 0 y 6 es:\n"
          ],
          "name": "stdout"
        },
        {
          "output_type": "execute_result",
          "data": {
            "text/plain": [
              "'0,0,2,5'"
            ]
          },
          "metadata": {
            "tags": []
          },
          "execution_count": 196
        }
      ]
    }
  ]
}